{
 "cells": [
  {
   "cell_type": "code",
   "execution_count": null,
   "metadata": {},
   "outputs": [],
   "source": [
    "import os\n",
    "import sys\n",
    "sys.path.append(os.path.abspath(\"D:\\AI and Machine Learning\\internship_task\"))\n",
    "from plot_generator import PlotGenerator\n",
    "plotter=PlotGenerator('deviation.json')"
   ]
  },
  {
   "cell_type": "code",
   "execution_count": null,
   "metadata": {},
   "outputs": [
    {
     "data": {
      "text/plain": [
       "MAE (Corner Predictions): 0.0\n",
       "Accuracy: 100.0%\n"
      ]
     },
     "metadata": {},
     "output_type": "display_data"
    }
   ],
   "source": [
    "plotter.load_data()\n",
    "plotter.calc_MAE()\n",
    "plotter.draw_plots()"
   ]
  }
 ],
 "metadata": {
  "language_info": {
   "name": "python"
  }
 },
 "nbformat": 4,
 "nbformat_minor": 2
}
